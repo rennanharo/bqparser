{
 "cells": [
  {
   "cell_type": "code",
   "execution_count": 21,
   "id": "finnish-optics",
   "metadata": {},
   "outputs": [],
   "source": [
    "import os\n",
    "import re\n",
    "import json\n",
    "import argparse"
   ]
  },
  {
   "cell_type": "code",
   "execution_count": 33,
   "id": "expected-interval",
   "metadata": {},
   "outputs": [],
   "source": [
    "path_to_source = 'example_inputs/oracle/example_input3.txt'\n",
    "filename = path_to_source.split(\"/\")[-1]\n",
    "filename = filename.split(\".\")[0]\n",
    "f = open(path_to_source, \"r\")\n",
    "\n",
    "objects = []\n",
    "for line in f:\n",
    "    strpline = line.strip()\n",
    "    line_list = strpline.split()\n",
    "    objects.append(line_list)\n",
    "\n",
    "f.close()"
   ]
  },
  {
   "cell_type": "code",
   "execution_count": 34,
   "id": "intellectual-valley",
   "metadata": {},
   "outputs": [
    {
     "data": {
      "text/plain": [
       "[['Nome', 'Nulo?', 'Tipo'],\n",
       " ['-----------------', '--------', '------------'],\n",
       " ['IDENT_ESTADO', 'NOT', 'NULL', 'NUMBER(12)'],\n",
       " ['COD_MUNICIPIO', 'NOT', 'NULL', 'NUMBER(5)'],\n",
       " ['DESCRICAO', 'VARCHAR2(50)'],\n",
       " ['COD_UF', 'NUMBER(2)'],\n",
       " ['COD_MUN_ESTADO', 'VARCHAR2(6)'],\n",
       " ['COD_AREA_LIVR_COM', 'VARCHAR2(10)'],\n",
       " ['COD_MUNIC_DIPJ', 'NUMBER(4)'],\n",
       " ['DESCRICAO_IBGE', 'VARCHAR2(50)'],\n",
       " []]"
      ]
     },
     "execution_count": 34,
     "metadata": {},
     "output_type": "execute_result"
    }
   ],
   "source": [
    "objects"
   ]
  },
  {
   "cell_type": "code",
   "execution_count": 14,
   "id": "unlimited-thread",
   "metadata": {},
   "outputs": [
    {
     "name": "stdout",
     "output_type": "stream",
     "text": [
      "[['Nome', 'Nulo?', 'Tipo'], ['-----------------', '--------', '------------'], ['IDENT_ESTADO', 'NOT', 'NULL', 'NUMBER(12)'], ['COD_MUNICIPIO', 'NOT', 'NULL', 'NUMBER(5)'], ['DESCRICAO', 'VARCHAR2(50)'], ['COD_UF', 'NUMBER(2)'], ['COD_MUN_ESTADO', 'VARCHAR2(6)'], ['COD_AREA_LIVR_COM', 'VARCHAR2(10)'], ['COD_MUNIC_DIPJ', 'NUMBER(4)'], ['DESCRICAO_IBGE', 'VARCHAR2(50)']]\n",
      "['Nome', 'Nulo?', 'Tipo']\n",
      "[['Nome', 'Nulo?', 'Tipo'], ['-----------------', '--------', '------------'], ['IDENT_ESTADO', 'NOT', 'NULL', 'NUMBER(12)'], ['COD_MUNICIPIO', 'NOT', 'NULL', 'NUMBER(5)'], ['DESCRICAO', 'VARCHAR2(50)'], ['COD_UF', 'NUMBER(2)'], ['COD_MUN_ESTADO', 'VARCHAR2(6)'], ['COD_AREA_LIVR_COM', 'VARCHAR2(10)'], ['COD_MUNIC_DIPJ', 'NUMBER(4)'], ['DESCRICAO_IBGE', 'VARCHAR2(50)']]\n",
      "['-----------------', '--------', '------------']\n",
      "[['Nome', 'Nulo?', 'Tipo'], ['-----------------', '--------', '------------'], ['IDENT_ESTADO', 'NOT', 'NULL', 'NUMBER(12)'], ['COD_MUNICIPIO', 'NOT', 'NULL', 'NUMBER(5)'], ['DESCRICAO', 'VARCHAR2(50)'], ['COD_UF', 'NUMBER(2)'], ['COD_MUN_ESTADO', 'VARCHAR2(6)'], ['COD_AREA_LIVR_COM', 'VARCHAR2(10)'], ['COD_MUNIC_DIPJ', 'NUMBER(4)'], ['DESCRICAO_IBGE', 'VARCHAR2(50)']]\n",
      "['IDENT_ESTADO', 'NOT', 'NULL', 'NUMBER(12)']\n",
      "[['Nome', 'Nulo?', 'Tipo'], ['-----------------', '--------', '------------'], ['IDENT_ESTADO', 'REQUIRED', 'NUMBER'], ['COD_MUNICIPIO', 'NOT', 'NULL', 'NUMBER(5)'], ['DESCRICAO', 'VARCHAR2(50)'], ['COD_UF', 'NUMBER(2)'], ['COD_MUN_ESTADO', 'VARCHAR2(6)'], ['COD_AREA_LIVR_COM', 'VARCHAR2(10)'], ['COD_MUNIC_DIPJ', 'NUMBER(4)'], ['DESCRICAO_IBGE', 'VARCHAR2(50)']]\n",
      "['COD_MUNICIPIO', 'NOT', 'NULL', 'NUMBER(5)']\n",
      "[['Nome', 'Nulo?', 'Tipo'], ['-----------------', '--------', '------------'], ['IDENT_ESTADO', 'REQUIRED', 'NUMBER'], ['COD_MUNICIPIO', 'REQUIRED', 'NUMBER'], ['DESCRICAO', 'VARCHAR2(50)'], ['COD_UF', 'NUMBER(2)'], ['COD_MUN_ESTADO', 'VARCHAR2(6)'], ['COD_AREA_LIVR_COM', 'VARCHAR2(10)'], ['COD_MUNIC_DIPJ', 'NUMBER(4)'], ['DESCRICAO_IBGE', 'VARCHAR2(50)']]\n",
      "['DESCRICAO', 'VARCHAR2(50)']\n",
      "[['Nome', 'Nulo?', 'Tipo'], ['-----------------', '--------', '------------'], ['IDENT_ESTADO', 'REQUIRED', 'NUMBER'], ['COD_MUNICIPIO', 'REQUIRED', 'NUMBER'], ['DESCRICAO', 'NULLABLE', 'VARCHAR2'], ['COD_UF', 'NUMBER(2)'], ['COD_MUN_ESTADO', 'VARCHAR2(6)'], ['COD_AREA_LIVR_COM', 'VARCHAR2(10)'], ['COD_MUNIC_DIPJ', 'NUMBER(4)'], ['DESCRICAO_IBGE', 'VARCHAR2(50)']]\n",
      "['COD_UF', 'NUMBER(2)']\n",
      "[['Nome', 'Nulo?', 'Tipo'], ['-----------------', '--------', '------------'], ['IDENT_ESTADO', 'REQUIRED', 'NUMBER'], ['COD_MUNICIPIO', 'REQUIRED', 'NUMBER'], ['DESCRICAO', 'NULLABLE', 'VARCHAR2'], ['COD_UF', 'NULLABLE', 'NUMBER'], ['COD_MUN_ESTADO', 'VARCHAR2(6)'], ['COD_AREA_LIVR_COM', 'VARCHAR2(10)'], ['COD_MUNIC_DIPJ', 'NUMBER(4)'], ['DESCRICAO_IBGE', 'VARCHAR2(50)']]\n",
      "['COD_MUN_ESTADO', 'VARCHAR2(6)']\n",
      "[['Nome', 'Nulo?', 'Tipo'], ['-----------------', '--------', '------------'], ['IDENT_ESTADO', 'REQUIRED', 'NUMBER'], ['COD_MUNICIPIO', 'REQUIRED', 'NUMBER'], ['DESCRICAO', 'NULLABLE', 'VARCHAR2'], ['COD_UF', 'NULLABLE', 'NUMBER'], ['COD_MUN_ESTADO', 'NULLABLE', 'VARCHAR2'], ['COD_AREA_LIVR_COM', 'VARCHAR2(10)'], ['COD_MUNIC_DIPJ', 'NUMBER(4)'], ['DESCRICAO_IBGE', 'VARCHAR2(50)']]\n",
      "['COD_AREA_LIVR_COM', 'VARCHAR2(10)']\n",
      "[['Nome', 'Nulo?', 'Tipo'], ['-----------------', '--------', '------------'], ['IDENT_ESTADO', 'REQUIRED', 'NUMBER'], ['COD_MUNICIPIO', 'REQUIRED', 'NUMBER'], ['DESCRICAO', 'NULLABLE', 'VARCHAR2'], ['COD_UF', 'NULLABLE', 'NUMBER'], ['COD_MUN_ESTADO', 'NULLABLE', 'VARCHAR2'], ['COD_AREA_LIVR_COM', 'NULLABLE', 'VARCHAR2'], ['COD_MUNIC_DIPJ', 'NUMBER(4)'], ['DESCRICAO_IBGE', 'VARCHAR2(50)']]\n",
      "['COD_MUNIC_DIPJ', 'NUMBER(4)']\n",
      "[['Nome', 'Nulo?', 'Tipo'], ['-----------------', '--------', '------------'], ['IDENT_ESTADO', 'REQUIRED', 'NUMBER'], ['COD_MUNICIPIO', 'REQUIRED', 'NUMBER'], ['DESCRICAO', 'NULLABLE', 'VARCHAR2'], ['COD_UF', 'NULLABLE', 'NUMBER'], ['COD_MUN_ESTADO', 'NULLABLE', 'VARCHAR2'], ['COD_AREA_LIVR_COM', 'NULLABLE', 'VARCHAR2'], ['COD_MUNIC_DIPJ', 'NULLABLE', 'NUMBER'], ['DESCRICAO_IBGE', 'VARCHAR2(50)']]\n",
      "['DESCRICAO_IBGE', 'VARCHAR2(50)']\n"
     ]
    }
   ],
   "source": [
    "result = []\n",
    "for row in objects:\n",
    "    print(objects)\n",
    "    print(row)\n",
    "    if row[1] == \"NOT\":\n",
    "        row[1] = \"REQUIRED\"\n",
    "        row.pop(2)\n",
    "        try:\n",
    "            row[2] = re.sub(r\"\\([^()]*\\)\", \"\", row[2])\n",
    "        except:\n",
    "            \"No parentheses found.\"\n",
    "\n",
    "        result.append(row)\n",
    "\n",
    "    elif row[0] != \"Nome\" and not re.search(\"--.+\", row[0]) and row[1] != \"NOT\":\n",
    "        row.insert(1, \"NULLABLE\")\n",
    "        try:\n",
    "            row[2] = re.sub(r\"\\([^()]*\\)\", \"\", row[2])\n",
    "        except:\n",
    "            \"No parentheses found.\"\n",
    "        result.append(row)"
   ]
  },
  {
   "cell_type": "code",
   "execution_count": 15,
   "id": "dirty-madison",
   "metadata": {},
   "outputs": [],
   "source": [
    "corresp = {\n",
    "    \"BINARY_DOUBLE\": \"NUMERIC\",\n",
    "    \"BINARY_FLOAT\": \"FLOAT64\",\n",
    "    \"BLOB\": \"BYTES\",\n",
    "    \"CHAR\": \"STRING\",\n",
    "    \"CLOB\": \"STRING\",\n",
    "    \"DATE\": \"DATE\",\n",
    "    \"FLOAT\": \"FLOAT64\",\n",
    "    \"INTERVALDAYTOSECOND\": \"STRING\",\n",
    "    \"INTERVALYEARTOMONTH\": \"STRING\",\n",
    "    \"NCHAR\": \"STRING\",\n",
    "    \"NCLOB\": \"STRING\",\n",
    "    \"NUMBER\": \"NUMERIC\",\n",
    "    \"NVARCHAR2\": \"STRING\",\n",
    "    \"RAW\": \"BYTES\",\n",
    "    \"TIMESTAMP\": \"DATETIME\",\n",
    "    \"TIMESTAMP WITHLOCALTIMEZONE\": \"TIMESTAMP\",\n",
    "    \"TIMESTAMP WITHTIMEZONE\": \"TIMESTAMP\",\n",
    "    \"VARCHAR2\": \"STRING\",\n",
    "}"
   ]
  },
  {
   "cell_type": "code",
   "execution_count": 16,
   "id": "valuable-lloyd",
   "metadata": {},
   "outputs": [],
   "source": [
    "schema = [\n",
    "    {\n",
    "        \"name\": row[0],\n",
    "        \"description\": \"\",\n",
    "        \"mode\": row[1],\n",
    "        \"type\": corresp[row[2]],\n",
    "    }\n",
    "    for row in result\n",
    "]"
   ]
  },
  {
   "cell_type": "code",
   "execution_count": 17,
   "id": "stylish-wonder",
   "metadata": {},
   "outputs": [
    {
     "name": "stdout",
     "output_type": "stream",
     "text": [
      "Conversao feita com sucesso!\n"
     ]
    }
   ],
   "source": [
    "with open(f\"example_outputs/{filename}.json\", \"w+\") as file1:\n",
    "    json.dump(schema, file1)\n",
    "print(\"Conversao feita com sucesso!\")"
   ]
  }
 ],
 "metadata": {
  "kernelspec": {
   "display_name": "Python 3",
   "language": "python",
   "name": "python3"
  },
  "language_info": {
   "codemirror_mode": {
    "name": "ipython",
    "version": 3
   },
   "file_extension": ".py",
   "mimetype": "text/x-python",
   "name": "python",
   "nbconvert_exporter": "python",
   "pygments_lexer": "ipython3",
   "version": "3.9.1"
  }
 },
 "nbformat": 4,
 "nbformat_minor": 5
}
